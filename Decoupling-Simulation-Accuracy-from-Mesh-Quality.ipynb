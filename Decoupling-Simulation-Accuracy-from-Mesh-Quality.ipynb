{
 "cells": [
  {
   "cell_type": "markdown",
   "metadata": {},
   "source": [
    "# Decoupling Simulation Accuracy from Mesh Quality"
   ]
  },
  {
   "cell_type": "markdown",
   "metadata": {},
   "source": [
    "Simple python notebook to regenrate the teaser image.\n",
    "\n",
    "The data and scripts to regenerate the other figures can be found \n",
    "[here](https://github.com/polyfem/Decoupling-Simulation-Accuracy-from-Mesh-Quality).\n",
    "\n",
    "Note, we used [polyfem](https://polyfem.github.io) [C++ version](https://github.com/polyfem/polyfem/)  for all figures."
   ]
  },
  {
   "cell_type": "markdown",
   "metadata": {},
   "source": [
    "Note that this can be run direcly with binder!\n",
    "[![Binder](https://mybinder.org/badge_logo.svg)](https://mybinder.org/v2/gh/polyfem/Decoupling-Simulation-Accuracy-from-Mesh-Quality.git/master?filepath=Decoupling-Simulation-Accuracy-from-Mesh-Quality.ipynb)\n",
    "\n",
    "Importing libraries"
   ]
  },
  {
   "cell_type": "code",
   "execution_count": 1,
   "metadata": {},
   "outputs": [
    {
     "data": {
      "text/html": [
       "<script type=\"text/javascript\">window.PlotlyConfig = {MathJaxConfig: 'local'};</script><script type=\"text/javascript\">if (window.MathJax) {MathJax.Hub.Config({SVG: {font: \"STIX-Web\"}});}</script><script>requirejs.config({paths: { 'plotly': ['https://cdn.plot.ly/plotly-latest.min']},});if(!window._Plotly) {require(['plotly'],function(plotly) {window._Plotly=plotly;});}</script>"
      ],
      "text/vnd.plotly.v1+html": [
       "<script type=\"text/javascript\">window.PlotlyConfig = {MathJaxConfig: 'local'};</script><script type=\"text/javascript\">if (window.MathJax) {MathJax.Hub.Config({SVG: {font: \"STIX-Web\"}});}</script><script>requirejs.config({paths: { 'plotly': ['https://cdn.plot.ly/plotly-latest.min']},});if(!window._Plotly) {require(['plotly'],function(plotly) {window._Plotly=plotly;});}</script>"
      ]
     },
     "metadata": {},
     "output_type": "display_data"
    }
   ],
   "source": [
    "import numpy as np\n",
    "import polyfempy as pf\n",
    "import json\n",
    "\n",
    "#plotting:\n",
    "import meshplot as mp\n",
    "import plotly.offline as plotly\n",
    "import plotly.graph_objs as go\n",
    "#Necessary for the notebook\n",
    "plotly.init_notebook_mode(connected=True)"
   ]
  },
  {
   "cell_type": "markdown",
   "metadata": {},
   "source": [
    "Note that this notebook is designed to be run in the root folder.\n",
    "If you want to reproduce the results of the teaser you can find the images [here](https://github.com/polyfem/Decoupling-Simulation-Accuracy-from-Mesh-Quality/tree/master/fig1-teaser/meshes)."
   ]
  },
  {
   "cell_type": "markdown",
   "metadata": {},
   "source": [
    "Setup problem"
   ]
  },
  {
   "cell_type": "code",
   "execution_count": 2,
   "metadata": {},
   "outputs": [],
   "source": [
    "settings = pf.Settings()\n",
    "\n",
    "#Teaser uses laplacian\n",
    "settings.set_pde(pf.PDEs.Laplacian)\n",
    "\n",
    "#Use quartic function f = (2*y-0.9)^4+0.1 for bounary conditions\n",
    "#and autodiff for rhs in C++, this problem is called Cubic (even if it quartic)\n",
    "\n",
    "#The function is defined https://github.com/polyfem/polyfem/blob/d598e1764512da28d62ecbbbd1a832407ffb42de/src/problem/MiscProblem.cpp#L26\n",
    "settings.problem = \"Cubic\""
   ]
  },
  {
   "cell_type": "markdown",
   "metadata": {},
   "source": [
    "First we solve using standard $P_1$ elements and our method which we enable with `settings.set_advanced_option(\"use_p_ref\", True)`.\n",
    "\n",
    "**Note** this takes some time, the last mesh quality is relly low!"
   ]
  },
  {
   "cell_type": "code",
   "execution_count": 3,
   "metadata": {},
   "outputs": [
    {
     "name": "stdout",
     "output_type": "stream",
     "text": [
      "[2019-09-11 21:20:14.236] [geogram] [info] Loading file fig1-teaser/meshes/large_angle_strip_0.obj...\n",
      "[2019-09-11 21:20:14.238] [geogram] [info] (FP64) nb_v:242 nb_e:0 nb_f:440 nb_b:42 tri:1 dim:3\n",
      "[2019-09-11 21:20:14.238] [geogram] [info] Attributes on vertices: point[3]\n",
      "[2019-09-11 21:20:14.264] [geogram] [info] Loading file fig1-teaser/meshes/large_angle_strip_1.obj...\n",
      "[2019-09-11 21:20:14.265] [geogram] [info] (FP64) nb_v:263 nb_e:0 nb_f:480 nb_b:44 tri:1 dim:3\n",
      "[2019-09-11 21:20:14.265] [geogram] [info] Attributes on vertices: point[3]\n",
      "[2019-09-11 21:20:14.278] [geogram] [info] Loading file fig1-teaser/meshes/large_angle_strip_2.obj...\n",
      "[2019-09-11 21:20:14.279] [geogram] [info] (FP64) nb_v:305 nb_e:0 nb_f:560 nb_b:48 tri:1 dim:3\n",
      "[2019-09-11 21:20:14.279] [geogram] [info] Attributes on vertices: point[3]\n",
      "[2019-09-11 21:20:14.291] [geogram] [info] Loading file fig1-teaser/meshes/large_angle_strip_3.obj...\n",
      "[2019-09-11 21:20:14.292] [geogram] [info] (FP64) nb_v:389 nb_e:0 nb_f:720 nb_b:56 tri:1 dim:3\n",
      "[2019-09-11 21:20:14.292] [geogram] [info] Attributes on vertices: point[3]\n",
      "[2019-09-11 21:20:14.310] [geogram] [info] Loading file fig1-teaser/meshes/large_angle_strip_4.obj...\n",
      "[2019-09-11 21:20:14.312] [geogram] [info] (FP64) nb_v:557 nb_e:0 nb_f:1040 nb_b:72 tri:1 dim:3\n",
      "[2019-09-11 21:20:14.312] [geogram] [info] Attributes on vertices: point[3]\n",
      "[2019-09-11 21:20:14.335] [geogram] [info] Loading file fig1-teaser/meshes/large_angle_strip_5.obj...\n",
      "[2019-09-11 21:20:14.336] [geogram] [info] (FP64) nb_v:893 nb_e:0 nb_f:1680 nb_b:104 tri:1 dim:3\n",
      "[2019-09-11 21:20:14.336] [geogram] [info] Attributes on vertices: point[3]\n",
      "[2019-09-11 21:20:14.365] [geogram] [info] Loading file fig1-teaser/meshes/large_angle_strip_6.obj...\n",
      "[2019-09-11 21:20:14.368] [geogram] [info] (FP64) nb_v:1565 nb_e:0 nb_f:2960 nb_b:168 tri:1 dim:3\n",
      "[2019-09-11 21:20:14.368] [geogram] [info] Attributes on vertices: point[3]\n",
      "[2019-09-11 21:20:14.415] [geogram] [info] Loading file fig1-teaser/meshes/large_angle_strip_7.obj...\n",
      "[2019-09-11 21:20:14.419] [geogram] [info] (FP64) nb_v:2909 nb_e:0 nb_f:5520 nb_b:296 tri:1 dim:3\n",
      "[2019-09-11 21:20:14.419] [geogram] [info] Attributes on vertices: point[3]\n",
      "[2019-09-11 21:20:14.498] [geogram] [info] Loading file fig1-teaser/meshes/large_angle_strip_8.obj...\n",
      "[2019-09-11 21:20:14.506] [geogram] [info] (FP64) nb_v:5597 nb_e:0 nb_f:10640 nb_b:552 tri:1 dim:3\n",
      "[2019-09-11 21:20:14.506] [geogram] [info] Attributes on vertices: point[3]\n",
      "[2019-09-11 21:20:14.648] [geogram] [info] Loading file fig1-teaser/meshes/large_angle_strip_0.obj...\n",
      "[2019-09-11 21:20:14.648] [geogram] [info] (FP64) nb_v:242 nb_e:0 nb_f:440 nb_b:42 tri:1 dim:3\n",
      "[2019-09-11 21:20:14.648] [geogram] [info] Attributes on vertices: point[3]\n",
      "[2019-09-11 21:20:14.659] [geogram] [info] Loading file fig1-teaser/meshes/large_angle_strip_1.obj...\n",
      "[2019-09-11 21:20:14.660] [geogram] [info] (FP64) nb_v:263 nb_e:0 nb_f:480 nb_b:44 tri:1 dim:3\n",
      "[2019-09-11 21:20:14.660] [geogram] [info] Attributes on vertices: point[3]\n",
      "[2019-09-11 21:20:14.672] [geogram] [info] Loading file fig1-teaser/meshes/large_angle_strip_2.obj...\n",
      "[2019-09-11 21:20:14.672] [geogram] [info] (FP64) nb_v:305 nb_e:0 nb_f:560 nb_b:48 tri:1 dim:3\n",
      "[2019-09-11 21:20:14.672] [geogram] [info] Attributes on vertices: point[3]\n",
      "[2019-09-11 21:20:14.693] [geogram] [info] Loading file fig1-teaser/meshes/large_angle_strip_3.obj...\n",
      "[2019-09-11 21:20:14.694] [geogram] [info] (FP64) nb_v:389 nb_e:0 nb_f:720 nb_b:56 tri:1 dim:3\n",
      "[2019-09-11 21:20:14.694] [geogram] [info] Attributes on vertices: point[3]\n",
      "[2019-09-11 21:20:14.734] [geogram] [info] Loading file fig1-teaser/meshes/large_angle_strip_4.obj...\n",
      "[2019-09-11 21:20:14.735] [geogram] [info] (FP64) nb_v:557 nb_e:0 nb_f:1040 nb_b:72 tri:1 dim:3\n",
      "[2019-09-11 21:20:14.735] [geogram] [info] Attributes on vertices: point[3]\n",
      "[2019-09-11 21:20:14.810] [geogram] [info] Loading file fig1-teaser/meshes/large_angle_strip_5.obj...\n",
      "[2019-09-11 21:20:14.811] [geogram] [info] (FP64) nb_v:893 nb_e:0 nb_f:1680 nb_b:104 tri:1 dim:3\n",
      "[2019-09-11 21:20:14.811] [geogram] [info] Attributes on vertices: point[3]\n",
      "[2019-09-11 21:20:15.562] [geogram] [info] Loading file fig1-teaser/meshes/large_angle_strip_6.obj...\n",
      "[2019-09-11 21:20:15.563] [geogram] [info] (FP64) nb_v:1565 nb_e:0 nb_f:2960 nb_b:168 tri:1 dim:3\n",
      "[2019-09-11 21:20:15.563] [geogram] [info] Attributes on vertices: point[3]\n",
      "[2019-09-11 21:20:18.481] [geogram] [info] Loading file fig1-teaser/meshes/large_angle_strip_7.obj...\n",
      "[2019-09-11 21:20:18.484] [geogram] [info] (FP64) nb_v:2909 nb_e:0 nb_f:5520 nb_b:296 tri:1 dim:3\n",
      "[2019-09-11 21:20:18.484] [geogram] [info] Attributes on vertices: point[3]\n",
      "[2019-09-11 21:20:30.146] [geogram] [info] Loading file fig1-teaser/meshes/large_angle_strip_8.obj...\n",
      "[2019-09-11 21:20:30.152] [geogram] [info] (FP64) nb_v:5597 nb_e:0 nb_f:10640 nb_b:552 tri:1 dim:3\n",
      "[2019-09-11 21:20:30.152] [geogram] [info] Attributes on vertices: point[3]\n",
      "Done!\n"
     ]
    }
   ],
   "source": [
    "n_meshes = 8\n",
    "\n",
    "total_solutions = {}\n",
    "total_errors = {}\n",
    "\n",
    "for use_pref in [False, True]:\n",
    "    if use_pref:\n",
    "        settings.set_advanced_option(\"use_p_ref\", True)\n",
    "    \n",
    "    solver = pf.Solver()\n",
    "    solver.set_log_level(6)\n",
    "    solver.settings(settings)\n",
    "\n",
    "    solutions = []\n",
    "    errors = []\n",
    "\n",
    "    #iterating over input files, named from 0 to 8\n",
    "    for i in range(n_meshes+1):\n",
    "        solver.load_mesh_from_path(\"fig1-teaser/meshes/large_angle_strip_{}.obj\".format(i), normalize_mesh=True)\n",
    "        solver.solve()\n",
    "        solver.compute_errors()\n",
    "\n",
    "        #getting and storing solution\n",
    "        v, f, sol = solver.get_sampled_solution()\n",
    "        pts = np.append(v, sol, 1)\n",
    "        solutions.append({\"pts\": pts, \"f\": f})\n",
    "\n",
    "        #getting error:\n",
    "        log = solver.get_log()\n",
    "        log = json.loads(log)\n",
    "        errors.append(log['err_l2'])\n",
    "        \n",
    "    #store these list in the total one\n",
    "    total_solutions[\"ours\" if use_pref else \"p1\"] = solutions\n",
    "    total_errors[\"ours\" if use_pref else \"p1\"] = errors\n",
    "\n",
    "print(\"Done!\")"
   ]
  },
  {
   "cell_type": "markdown",
   "metadata": {},
   "source": [
    "## Plot 3D results"
   ]
  },
  {
   "cell_type": "code",
   "execution_count": 4,
   "metadata": {},
   "outputs": [],
   "source": [
    "#for nice plot we append the 2 meshses\n",
    "def get_v_f_c(sols, i):\n",
    "    #append points and offset x by 1.1\n",
    "    pts_ours = np.array(total_solutions[\"ours\"][i][\"pts\"])\n",
    "    pts_p1 = np.array(total_solutions[\"p1\"][i][\"pts\"])\n",
    "    pts_p1[:, 0] += 1.1\n",
    "    v = np.append(pts_ours, pts_p1, 0)\n",
    "    \n",
    "    #colors\n",
    "    c = np.array(v[:, 2])\n",
    "    \n",
    "    #append faces\n",
    "    f_ours = np.array(total_solutions[\"ours\"][i]['f'])\n",
    "    f_p1 = np.array(total_solutions[\"p1\"][i]['f'])\n",
    "    f_p1 += np.max(f_ours)+1\n",
    "    f = np.append(f_ours, f_p1, 0)\n",
    "    \n",
    "    return v, f, c"
   ]
  },
  {
   "cell_type": "markdown",
   "metadata": {},
   "source": [
    "Our results are on the left!"
   ]
  },
  {
   "cell_type": "code",
   "execution_count": 5,
   "metadata": {},
   "outputs": [
    {
     "data": {
      "application/vnd.jupyter.widget-view+json": {
       "model_id": "da8b6d5213f94c369451af82ddbdb00c",
       "version_major": 2,
       "version_minor": 0
      },
      "text/plain": [
       "Renderer(camera=PerspectiveCamera(children=(DirectionalLight(color='white', intensity=0.6, position=(1.0499999…"
      ]
     },
     "metadata": {},
     "output_type": "display_data"
    },
    {
     "data": {
      "application/vnd.jupyter.widget-view+json": {
       "model_id": "639949dc81c5482bb3226a8b2a317fab",
       "version_major": 2,
       "version_minor": 0
      },
      "text/plain": [
       "interactive(children=(Dropdown(description='mesh', options=(('mesh_0', 0), ('mesh_1', 1), ('mesh_2', 2), ('mes…"
      ]
     },
     "metadata": {},
     "output_type": "display_data"
    },
    {
     "data": {
      "text/plain": [
       "<meshplot.Viewer at 0x1205112e8>"
      ]
     },
     "execution_count": 5,
     "metadata": {},
     "output_type": "execute_result"
    }
   ],
   "source": [
    "v, f, c = get_v_f_c(total_solutions, 0)\n",
    "p = mp.plot(v, f, c, shading={\"wireframe\": False}, return_plot=True)\n",
    "\n",
    "@mp.interact(mesh=[('mesh_{}'.format(i), i) for i in range(n_meshes+1)])\n",
    "def ff(mesh):\n",
    "    v, f, c = get_v_f_c(total_solutions, mesh)\n",
    "    mp.plot(v, f, c, shading={\"wireframe\": False}, plot=p)\n",
    "p"
   ]
  },
  {
   "cell_type": "markdown",
   "metadata": {},
   "source": [
    "## Error plor"
   ]
  },
  {
   "cell_type": "code",
   "execution_count": 6,
   "metadata": {},
   "outputs": [],
   "source": [
    "colors = {'ours': 'rgb(85, 239, 196)', 'p1': 'rgb(255, 201, 26)'}\n",
    "marker_shape = 'circle'\n",
    "marker_size = 6\n",
    "\n",
    "def get_plot_trace(errors, method):\n",
    "    x = []\n",
    "    y = []\n",
    "    \n",
    "    for i in range(len(errors[method])):\n",
    "        x.append(i)\n",
    "        y.append(errors[method][i])\n",
    "        \n",
    "    x, y = zip(*sorted(zip(x, y))[:])\n",
    "    trace = go.Scatter(x=x, y=y,\n",
    "        mode='lines+markers',\n",
    "        name=method,\n",
    "        line=dict(color=colors[method]),\n",
    "        marker=dict(symbol=marker_shape, size=marker_size)\n",
    "    )\n",
    "    return trace"
   ]
  },
  {
   "cell_type": "code",
   "execution_count": 7,
   "metadata": {},
   "outputs": [
    {
     "data": {
      "application/vnd.plotly.v1+json": {
       "data": [
        {
         "line": {
          "color": "rgb(85, 239, 196)"
         },
         "marker": {
          "size": 6,
          "symbol": "circle"
         },
         "mode": "lines+markers",
         "name": "ours",
         "type": "scatter",
         "uid": "1f70a0b5-1f94-4986-945a-436fc1d190b1",
         "x": [
          0,
          1,
          2,
          3,
          4,
          5,
          6,
          7,
          8
         ],
         "y": [
          0.007582070723462351,
          0.009592105518135111,
          0.006570855229251599,
          0.0065254604442315555,
          0.006526456855605062,
          0.006524216439545169,
          0.0065251086203875494,
          0.0065258890380995235,
          0.006525746124108735
         ]
        },
        {
         "line": {
          "color": "rgb(255, 201, 26)"
         },
         "marker": {
          "size": 6,
          "symbol": "circle"
         },
         "mode": "lines+markers",
         "name": "p1",
         "type": "scatter",
         "uid": "86a4be5f-38e2-4438-860a-da47046fba7d",
         "x": [
          0,
          1,
          2,
          3,
          4,
          5,
          6,
          7,
          8
         ],
         "y": [
          0.00758207072346235,
          0.009592105518135092,
          0.015599015894036847,
          0.03034015620612957,
          0.06333410753351308,
          0.1412675717935937,
          0.23193556230079945,
          0.27966152168384345,
          0.2970733915081397
         ]
        }
       ],
       "layout": {
        "hovermode": "closest",
        "legend": {
         "x": 0.1,
         "y": 0.98
        },
        "xaxis": {
         "nticks": 5,
         "title": "Mesh"
        },
        "yaxis": {
         "range": [
          0,
          0.3
         ],
         "title": "Error L2"
        }
       }
      },
      "text/html": [
       "<div id=\"c5176b6d-8d69-4b19-81b1-5840e350ba69\" style=\"height: 525px; width: 100%;\" class=\"plotly-graph-div\"></div><script type=\"text/javascript\">require([\"plotly\"], function(Plotly) { window.PLOTLYENV=window.PLOTLYENV || {};window.PLOTLYENV.BASE_URL=\"https://plot.ly\";Plotly.newPlot(\"c5176b6d-8d69-4b19-81b1-5840e350ba69\", [{\"line\": {\"color\": \"rgb(85, 239, 196)\"}, \"marker\": {\"size\": 6, \"symbol\": \"circle\"}, \"mode\": \"lines+markers\", \"name\": \"ours\", \"x\": [0, 1, 2, 3, 4, 5, 6, 7, 8], \"y\": [0.007582070723462351, 0.009592105518135111, 0.006570855229251599, 0.0065254604442315555, 0.006526456855605062, 0.006524216439545169, 0.0065251086203875494, 0.0065258890380995235, 0.006525746124108735], \"type\": \"scatter\", \"uid\": \"1f70a0b5-1f94-4986-945a-436fc1d190b1\"}, {\"line\": {\"color\": \"rgb(255, 201, 26)\"}, \"marker\": {\"size\": 6, \"symbol\": \"circle\"}, \"mode\": \"lines+markers\", \"name\": \"p1\", \"x\": [0, 1, 2, 3, 4, 5, 6, 7, 8], \"y\": [0.00758207072346235, 0.009592105518135092, 0.015599015894036847, 0.03034015620612957, 0.06333410753351308, 0.1412675717935937, 0.23193556230079945, 0.27966152168384345, 0.2970733915081397], \"type\": \"scatter\", \"uid\": \"86a4be5f-38e2-4438-860a-da47046fba7d\"}], {\"hovermode\": \"closest\", \"legend\": {\"x\": 0.1, \"y\": 0.98}, \"xaxis\": {\"nticks\": 5, \"title\": \"Mesh\"}, \"yaxis\": {\"range\": [0.0, 0.3], \"title\": \"Error L2\"}}, {\"showLink\": true, \"linkText\": \"Export to plot.ly\"})});</script><script type=\"text/javascript\">window.addEventListener(\"resize\", function(){window._Plotly.Plots.resize(document.getElementById(\"c5176b6d-8d69-4b19-81b1-5840e350ba69\"));});</script>"
      ],
      "text/vnd.plotly.v1+html": [
       "<div id=\"c5176b6d-8d69-4b19-81b1-5840e350ba69\" style=\"height: 525px; width: 100%;\" class=\"plotly-graph-div\"></div><script type=\"text/javascript\">require([\"plotly\"], function(Plotly) { window.PLOTLYENV=window.PLOTLYENV || {};window.PLOTLYENV.BASE_URL=\"https://plot.ly\";Plotly.newPlot(\"c5176b6d-8d69-4b19-81b1-5840e350ba69\", [{\"line\": {\"color\": \"rgb(85, 239, 196)\"}, \"marker\": {\"size\": 6, \"symbol\": \"circle\"}, \"mode\": \"lines+markers\", \"name\": \"ours\", \"x\": [0, 1, 2, 3, 4, 5, 6, 7, 8], \"y\": [0.007582070723462351, 0.009592105518135111, 0.006570855229251599, 0.0065254604442315555, 0.006526456855605062, 0.006524216439545169, 0.0065251086203875494, 0.0065258890380995235, 0.006525746124108735], \"type\": \"scatter\", \"uid\": \"1f70a0b5-1f94-4986-945a-436fc1d190b1\"}, {\"line\": {\"color\": \"rgb(255, 201, 26)\"}, \"marker\": {\"size\": 6, \"symbol\": \"circle\"}, \"mode\": \"lines+markers\", \"name\": \"p1\", \"x\": [0, 1, 2, 3, 4, 5, 6, 7, 8], \"y\": [0.00758207072346235, 0.009592105518135092, 0.015599015894036847, 0.03034015620612957, 0.06333410753351308, 0.1412675717935937, 0.23193556230079945, 0.27966152168384345, 0.2970733915081397], \"type\": \"scatter\", \"uid\": \"86a4be5f-38e2-4438-860a-da47046fba7d\"}], {\"hovermode\": \"closest\", \"legend\": {\"x\": 0.1, \"y\": 0.98}, \"xaxis\": {\"nticks\": 5, \"title\": \"Mesh\"}, \"yaxis\": {\"range\": [0.0, 0.3], \"title\": \"Error L2\"}}, {\"showLink\": true, \"linkText\": \"Export to plot.ly\"})});</script><script type=\"text/javascript\">window.addEventListener(\"resize\", function(){window._Plotly.Plots.resize(document.getElementById(\"c5176b6d-8d69-4b19-81b1-5840e350ba69\"));});</script>"
      ]
     },
     "metadata": {},
     "output_type": "display_data"
    }
   ],
   "source": [
    "plot_data = [get_plot_trace(total_errors, \"ours\"), get_plot_trace(total_errors, \"p1\")]\n",
    "\n",
    "layout = go.Layout(\n",
    "    legend=dict(x=0.1, y=0.98),\n",
    "    xaxis=dict(\n",
    "        title=\"Mesh\",\n",
    "        nticks=5,\n",
    "        ),\n",
    "    yaxis=dict(\n",
    "        title=\"Error L2\",\n",
    "        range=[0.0, 0.3]\n",
    "    ),\n",
    "    hovermode='closest')\n",
    "\n",
    "fig = go.Figure(data=plot_data, layout=layout)\n",
    "plotly.iplot(fig)"
   ]
  },
  {
   "cell_type": "code",
   "execution_count": null,
   "metadata": {},
   "outputs": [],
   "source": []
  }
 ],
 "metadata": {
  "kernelspec": {
   "display_name": "Python 3",
   "language": "python",
   "name": "python3"
  },
  "language_info": {
   "codemirror_mode": {
    "name": "ipython",
    "version": 3
   },
   "file_extension": ".py",
   "mimetype": "text/x-python",
   "name": "python",
   "nbconvert_exporter": "python",
   "pygments_lexer": "ipython3",
   "version": "3.6.7"
  }
 },
 "nbformat": 4,
 "nbformat_minor": 2
}
